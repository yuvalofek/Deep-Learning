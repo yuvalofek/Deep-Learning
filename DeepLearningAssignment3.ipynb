{
  "nbformat": 4,
  "nbformat_minor": 0,
  "metadata": {
    "colab": {
      "name": "DeepLearningAssignment3.ipynb",
      "provenance": [],
      "collapsed_sections": [],
      "authorship_tag": "ABX9TyPO0w/fMCx2vgKdmDaSR7Qz",
      "include_colab_link": true
    },
    "kernelspec": {
      "name": "python3",
      "display_name": "Python 3"
    }
  },
  "cells": [
    {
      "cell_type": "markdown",
      "metadata": {
        "id": "view-in-github",
        "colab_type": "text"
      },
      "source": [
        "<a href=\"https://colab.research.google.com/github/yuvalofek/Deep_Learning/blob/master/DeepLearningAssignment3.ipynb\" target=\"_parent\"><img src=\"https://colab.research.google.com/assets/colab-badge.svg\" alt=\"Open In Colab\"/></a>"
      ]
    },
    {
      "cell_type": "markdown",
      "metadata": {
        "id": "C_BSlv3JbeaO",
        "colab_type": "text"
      },
      "source": [
        "**ECE472, Deep Learning – Assignment 2**\n",
        "\n",
        "Submit by Sept. 23, 10pm\n",
        "\n",
        "tldr: Classify mnist digits with a (optionally convoultional) neural network. Get at least 95.5% accuracy on the test test."
      ]
    },
    {
      "cell_type": "code",
      "metadata": {
        "id": "8UfPerHNbZ6I",
        "colab_type": "code",
        "colab": {}
      },
      "source": [
        "import numpy as np\n",
        "import pandas as pd\n",
        "import numpy.random as npr\n",
        "import tensorflow as tf\n",
        "from tensorflow.keras.preprocessing.image import ImageDataGenerator\n",
        "import matplotlib.pyplot as plt\n",
        "import gzip"
      ],
      "execution_count": 1,
      "outputs": []
    },
    {
      "cell_type": "code",
      "metadata": {
        "id": "tHiO_bXM7E2f",
        "colab_type": "code",
        "colab": {
          "base_uri": "https://localhost:8080/",
          "height": 756
        },
        "outputId": "7167ab73-6224-4203-aa69-d3de786d79bf"
      },
      "source": [
        "npr.seed(25)\n",
        "image_size = 28\n",
        "train_images = 60_000\n",
        "test_images = 10_000\n",
        "\n",
        "#Install MNIST dataset\n",
        "!wget -O train-images-idx3-ubyte.gz http://yann.lecun.com/exdb/mnist/train-images-idx3-ubyte.gz\n",
        "!wget -O train-labels-idx1-ubyte.gz http://yann.lecun.com/exdb/mnist/train-labels-idx1-ubyte.gz\n",
        "!wget -O t10k-images-idx3-ubyte.gz http://yann.lecun.com/exdb/mnist/t10k-images-idx3-ubyte.gz\n",
        "!wget -O t10k-labels-idx1-ubyte.gz http://yann.lecun.com/exdb/mnist/t10k-labels-idx1-ubyte.gz\n",
        "\n",
        "# To read these files I referenced: \n",
        "\n",
        "\n",
        "def read_values(file_name , read_val, size, num_read):\n",
        "  '''\n",
        "  Opens gzip compressed file with name file_name and reads the values in it, \n",
        "  returning an array of integers of size: (size*size*num_read,), containing the\n",
        "  information inside the file. \n",
        "  \n",
        "  Referenced:\n",
        "  https://stackoverflow.com/questions/40427435/extract-images-from-idx3-ubyte-file-or-gzip-via-python \n",
        "  '''\n",
        "  f = gzip.open(file_name, 'r')\n",
        "  f.read(read_val)\n",
        "  buf = f.read(size*size * num_read)\n",
        "  data = np.frombuffer(buf, dtype=np.uint8).astype('int')\n",
        "  return data\n",
        "\n",
        "#read the values\n",
        "data_tr = read_values('train-images-idx3-ubyte.gz',\n",
        "                      16,image_size,train_images).reshape(train_images,-1)\n",
        "label_tr = read_values('train-labels-idx1-ubyte.gz',\n",
        "                       8,1,train_images)\n",
        "data_test = read_values('t10k-images-idx3-ubyte.gz',\n",
        "                        16,image_size,test_images).reshape(test_images,-1)\n",
        "label_test = read_values('t10k-labels-idx1-ubyte.gz',\n",
        "                         8,1,test_images)\n",
        "\n",
        "#Make into dataframes because I find them nicer to work with\n",
        "df_X_train = pd.DataFrame(\n",
        "    np.concatenate((np.expand_dims(label_tr, axis = 1), data_tr), axis = 1), \n",
        "    dtype = 'int'\n",
        "    )\n",
        "df_X_test = pd.DataFrame(\n",
        "    np.concatenate((np.expand_dims(label_test, axis = 1), data_test), axis = 1), \n",
        "    dtype = 'int'\n",
        "    )\n"
      ],
      "execution_count": 2,
      "outputs": [
        {
          "output_type": "stream",
          "text": [
            "--2020-09-22 02:20:30--  http://yann.lecun.com/exdb/mnist/train-images-idx3-ubyte.gz\n",
            "Resolving yann.lecun.com (yann.lecun.com)... 104.28.6.204, 172.67.171.76, 104.28.7.204, ...\n",
            "Connecting to yann.lecun.com (yann.lecun.com)|104.28.6.204|:80... connected.\n",
            "HTTP request sent, awaiting response... 200 OK\n",
            "Length: 9912422 (9.5M) [application/x-gzip]\n",
            "Saving to: ‘train-images-idx3-ubyte.gz’\n",
            "\n",
            "train-images-idx3-u 100%[===================>]   9.45M  31.9MB/s    in 0.3s    \n",
            "\n",
            "2020-09-22 02:20:31 (31.9 MB/s) - ‘train-images-idx3-ubyte.gz’ saved [9912422/9912422]\n",
            "\n",
            "--2020-09-22 02:20:31--  http://yann.lecun.com/exdb/mnist/train-labels-idx1-ubyte.gz\n",
            "Resolving yann.lecun.com (yann.lecun.com)... 104.28.6.204, 172.67.171.76, 104.28.7.204, ...\n",
            "Connecting to yann.lecun.com (yann.lecun.com)|104.28.6.204|:80... connected.\n",
            "HTTP request sent, awaiting response... 200 OK\n",
            "Length: 28881 (28K) [application/x-gzip]\n",
            "Saving to: ‘train-labels-idx1-ubyte.gz’\n",
            "\n",
            "train-labels-idx1-u 100%[===================>]  28.20K  --.-KB/s    in 0.04s   \n",
            "\n",
            "2020-09-22 02:20:31 (796 KB/s) - ‘train-labels-idx1-ubyte.gz’ saved [28881/28881]\n",
            "\n",
            "--2020-09-22 02:20:31--  http://yann.lecun.com/exdb/mnist/t10k-images-idx3-ubyte.gz\n",
            "Resolving yann.lecun.com (yann.lecun.com)... 104.28.6.204, 172.67.171.76, 104.28.7.204, ...\n",
            "Connecting to yann.lecun.com (yann.lecun.com)|104.28.6.204|:80... connected.\n",
            "HTTP request sent, awaiting response... 200 OK\n",
            "Length: 1648877 (1.6M) [application/x-gzip]\n",
            "Saving to: ‘t10k-images-idx3-ubyte.gz’\n",
            "\n",
            "t10k-images-idx3-ub 100%[===================>]   1.57M  8.50MB/s    in 0.2s    \n",
            "\n",
            "2020-09-22 02:20:31 (8.50 MB/s) - ‘t10k-images-idx3-ubyte.gz’ saved [1648877/1648877]\n",
            "\n",
            "--2020-09-22 02:20:31--  http://yann.lecun.com/exdb/mnist/t10k-labels-idx1-ubyte.gz\n",
            "Resolving yann.lecun.com (yann.lecun.com)... 104.28.6.204, 172.67.171.76, 104.28.7.204, ...\n",
            "Connecting to yann.lecun.com (yann.lecun.com)|104.28.6.204|:80... connected.\n",
            "HTTP request sent, awaiting response... 200 OK\n",
            "Length: 4542 (4.4K) [application/x-gzip]\n",
            "Saving to: ‘t10k-labels-idx1-ubyte.gz’\n",
            "\n",
            "t10k-labels-idx1-ub 100%[===================>]   4.44K  --.-KB/s    in 0s      \n",
            "\n",
            "2020-09-22 02:20:32 (187 MB/s) - ‘t10k-labels-idx1-ubyte.gz’ saved [4542/4542]\n",
            "\n"
          ],
          "name": "stdout"
        }
      ]
    },
    {
      "cell_type": "code",
      "metadata": {
        "id": "a1lfq70eEzAP",
        "colab_type": "code",
        "colab": {
          "base_uri": "https://localhost:8080/",
          "height": 34
        },
        "outputId": "f4eab903-73ea-4d53-d6fd-25097e6db605"
      },
      "source": [
        "### CREATING THE VALIDATION SET:\n",
        "VAL_PERCENT = 0.1\n",
        "num_examples = len(df_X_train)\n",
        "\n",
        "#How many examples to put in validation set\n",
        "num_val_examples = VAL_PERCENT* num_examples\n",
        "#number of examples with each label in current training set\n",
        "num_examples_per_class = df_X_train.groupby(0)[0].count()\n",
        "#number of examples from each label to move have in validation set \n",
        "val_per_class = list((np.around(\n",
        "    num_examples_per_class/num_examples*num_val_examples\n",
        "    ).astype('int')))\n",
        "#number of labels\n",
        "num_classes =len(num_examples_per_class)\n",
        "\n",
        "#For each label in current training set, randomly pick examples \n",
        "#so that their number match what was calculated earlier and add it\n",
        "#to a big list\n",
        "val_idxs = []\n",
        "for i in range(num_classes):\n",
        "  val_idxs.append(npr.choice(df_X_train[df_X_train[0] == i].index,\n",
        "                             size = val_per_class[i]).tolist())\n",
        "val_idxs = [item for sublist in val_idxs for item in sublist]\n",
        "\n",
        "#take those chosen examples and make a validation set, while also \n",
        "#removing them from the training set\n",
        "df_X_val = df_X_train.loc[val_idxs]\n",
        "df_X_train = df_X_train.drop(val_idxs)\n",
        "\n",
        "\n",
        "#checking to make sure validation and training sets have same distribution\n",
        "percent_classes_train = list(df_X_train.groupby(0)[0].count()/len(df_X_train))\n",
        "percent_classes_val = list(df_X_val.groupby(0)[0].count()/len(df_X_val))\n",
        "\n",
        "print('All probabilities match up to 1e-3:',\n",
        "    any([(percent_classes_train[i] - percent_classes_val[i])<1e-3\n",
        " for i in range(len(percent_classes_val)) ]))"
      ],
      "execution_count": 3,
      "outputs": [
        {
          "output_type": "stream",
          "text": [
            "All probabilities match up to 1e-3: True\n"
          ],
          "name": "stdout"
        }
      ]
    },
    {
      "cell_type": "code",
      "metadata": {
        "id": "55n3EkCeIigf",
        "colab_type": "code",
        "colab": {}
      },
      "source": [
        "#extract labels\n",
        "df_y_train = df_X_train.pop(0)\n",
        "df_y_test = df_X_test.pop(0)\n",
        "df_y_val = df_X_val.pop(0)\n",
        "\n",
        "#to numpy and reshapes\n",
        "X_train = df_X_train.to_numpy().reshape(-1, 28,28, 1)\n",
        "y_train = df_y_train.to_numpy()\n",
        "\n",
        "X_val = df_X_val.to_numpy().reshape(-1,28,28, 1)\n",
        "y_val = df_y_val.to_numpy()\n",
        "\n",
        "X_test = df_X_test.to_numpy().reshape(-1,28,28, 1)\n",
        "y_test = df_y_test.to_numpy()\n",
        "\n",
        "#make y categorical\n",
        "y_train = tf.keras.utils.to_categorical(y_train, num_classes)\n",
        "y_test = tf.keras.utils.to_categorical(y_test, num_classes)\n",
        "y_val = tf.keras.utils.to_categorical(y_val, num_classes)\n",
        "\n",
        "# Training generator\n",
        "train_datagen = ImageDataGenerator(\n",
        "    rescale = 1./255,\n",
        "    rotation_range=10,\n",
        "    width_shift_range = 0.2, \n",
        "    height_shift_range = 0.2,\n",
        "    shear_range = 0.1,\n",
        "    zoom_range = 0.05,\n",
        "    fill_mode = 'nearest'\n",
        ")\n",
        "train_generator = train_datagen.flow(\n",
        "    X_train,\n",
        "    y_train,\n",
        "    batch_size=32,\n",
        ")     \n",
        "\n",
        "#Validation generator\n",
        "val_datagen = ImageDataGenerator(\n",
        "    rescale = 1./255\n",
        ")\n",
        "val_generator = val_datagen.flow(\n",
        "    X_val,\n",
        "    y_val,\n",
        ")\n",
        "\n",
        "#Test generator\n",
        "test_datagen = ImageDataGenerator(\n",
        "    rescale = 1./255\n",
        ")\n",
        "test_generator = test_datagen.flow(\n",
        "    X_test,\n",
        "    y_test,\n",
        ")"
      ],
      "execution_count": 4,
      "outputs": []
    },
    {
      "cell_type": "code",
      "metadata": {
        "id": "TLseJtIaC_Jm",
        "colab_type": "code",
        "colab": {
          "base_uri": "https://localhost:8080/",
          "height": 437
        },
        "outputId": "7a5d6add-a3a4-41e5-f8fd-1e41a2efeca8"
      },
      "source": [
        "model = tf.keras.models.Sequential([\n",
        "    tf.keras.layers.Conv2D(16, (3,3), input_shape = (28,28,1),\n",
        "                           activation = 'relu',\n",
        "                           activity_regularizer='l2'),\n",
        "    tf.keras.layers.MaxPooling2D(2,2),\n",
        "    tf.keras.layers.Conv2D(32, (3,3), activation = 'relu',\n",
        "                           activity_regularizer='l2'),\n",
        "    tf.keras.layers.MaxPooling2D(2,2),\n",
        "    tf.keras.layers.Flatten(),\n",
        "    tf.keras.layers.Dropout(0.5),\n",
        "    tf.keras.layers.Dense(16, activation = 'relu', activity_regularizer='l2'),\n",
        "    tf.keras.layers.Dropout(0.5),\n",
        "    tf.keras.layers.Dense(num_classes,activation = 'softmax'),\n",
        "])\n",
        "\n",
        "# Compile Model. \n",
        "model.compile(loss = \"categorical_crossentropy\" , \n",
        "             optimizer = 'adam', \n",
        "             metrics = ['acc'])\n",
        "\n",
        "# Callback class that stops training once validation accuracy reaches 96%\n",
        "class myCallback(tf.keras.callbacks.Callback):\n",
        "  def on_epoch_end(self, epoch, logs={}):\n",
        "    if(logs.get('val_acc')>0.96):\n",
        "      print(\"\\n\\nValidation reached 96% accuracy so stopping training!\")\n",
        "      self.model.stop_training = True\n",
        "      \n",
        "callback = myCallback()\n",
        "\n",
        "# Train the Model\n",
        "history = model.fit(\n",
        "    train_generator,\n",
        "    epochs = 30,\n",
        "    verbose = 1,\n",
        "    validation_data = val_generator,\n",
        "    callbacks = [callback]\n",
        ")"
      ],
      "execution_count": 6,
      "outputs": [
        {
          "output_type": "stream",
          "text": [
            "Epoch 1/30\n",
            "1697/1697 [==============================] - 53s 31ms/step - loss: 1.7722 - acc: 0.3829 - val_loss: 0.8630 - val_acc: 0.8800\n",
            "Epoch 2/30\n",
            "1697/1697 [==============================] - 54s 32ms/step - loss: 1.2634 - acc: 0.5857 - val_loss: 0.5565 - val_acc: 0.9245\n",
            "Epoch 3/30\n",
            "1697/1697 [==============================] - 54s 32ms/step - loss: 1.0899 - acc: 0.6454 - val_loss: 0.5196 - val_acc: 0.9047\n",
            "Epoch 4/30\n",
            "1697/1697 [==============================] - 54s 32ms/step - loss: 1.0100 - acc: 0.6688 - val_loss: 0.4253 - val_acc: 0.9310\n",
            "Epoch 5/30\n",
            "1697/1697 [==============================] - 54s 32ms/step - loss: 0.9462 - acc: 0.6885 - val_loss: 0.3698 - val_acc: 0.9385\n",
            "Epoch 6/30\n",
            "1697/1697 [==============================] - 55s 33ms/step - loss: 0.9195 - acc: 0.6941 - val_loss: 0.3272 - val_acc: 0.9480\n",
            "Epoch 7/30\n",
            "1697/1697 [==============================] - 55s 33ms/step - loss: 0.8914 - acc: 0.7025 - val_loss: 0.3427 - val_acc: 0.9350\n",
            "Epoch 8/30\n",
            "1697/1697 [==============================] - 55s 32ms/step - loss: 0.8708 - acc: 0.7057 - val_loss: 0.3034 - val_acc: 0.9472\n",
            "Epoch 9/30\n",
            "1697/1697 [==============================] - 56s 33ms/step - loss: 0.8485 - acc: 0.7139 - val_loss: 0.2886 - val_acc: 0.9475\n",
            "Epoch 10/30\n",
            "1697/1697 [==============================] - 56s 33ms/step - loss: 0.8296 - acc: 0.7190 - val_loss: 0.2703 - val_acc: 0.9530\n",
            "Epoch 11/30\n",
            "1697/1697 [==============================] - ETA: 0s - loss: 0.8241 - acc: 0.7183\n",
            "\n",
            "Validation reached 95.5% accuracy so stopping training!\n",
            "1697/1697 [==============================] - 56s 33ms/step - loss: 0.8241 - acc: 0.7183 - val_loss: 0.2535 - val_acc: 0.9578\n"
          ],
          "name": "stdout"
        }
      ]
    },
    {
      "cell_type": "code",
      "metadata": {
        "id": "lIL8yXnFoDAz",
        "colab_type": "code",
        "colab": {
          "base_uri": "https://localhost:8080/",
          "height": 629
        },
        "outputId": "c79b43ad-0b57-4660-cc6f-d03af507b713"
      },
      "source": [
        "# Learning Curve\n",
        "plt.figure(figsize = (10,10))\n",
        "plt.plot(history.history['loss'])\n",
        "plt.plot(history.history['val_loss'])\n",
        "\n",
        "plt.xlabel('Epochs', fontsize = 14)\n",
        "h = plt.ylabel('Loss',fontsize = 14)\n",
        "h.set_rotation(0)\n",
        "plt.title('Learning Curve', fontsize = 18)\n",
        "plt.legend(['Training Loss', 'Validation Loss'])\n",
        "plt.show()"
      ],
      "execution_count": 9,
      "outputs": [
        {
          "output_type": "display_data",
          "data": {
            "image/png": "[encoded data removed]",
            "text/plain": [
              "<Figure size 720x720 with 1 Axes>"
            ]
          },
          "metadata": {
            "tags": [],
            "needs_background": "light"
          }
        }
      ]
    },
    {
      "cell_type": "code",
      "metadata": {
        "id": "xF-uqpquXNUt",
        "colab_type": "code",
        "colab": {
          "base_uri": "https://localhost:8080/",
          "height": 34
        },
        "outputId": "a5300441-7c53-40cf-dbab-c2de50eb7225"
      },
      "source": [
        "results = model.evaluate(test_generator, verbose=0)\n",
        "print('Test Accuracy:', results[1])"
      ],
      "execution_count": 10,
      "outputs": [
        {
          "output_type": "stream",
          "text": [
            "Test Accuracy: 0.958899974822998\n"
          ],
          "name": "stdout"
        }
      ]
    }
  ]
}